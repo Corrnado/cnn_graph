{
 "cells": [
  {
   "cell_type": "markdown",
   "metadata": {},
   "source": [
    "# Wikipedia Traffic
",
    "
",
    "This notebook aims at modeling user traffic on [Wikipedia](https://wikipedia.org) using a recurrent graph convolutional neural network.
",
    "
",
    "Goal: anomaly detection. Can be used to detect events in the real world. Other applications:
",
    "* intrusion detection on telecomunnication networks,
",
    "* anomaly detection on energy networks,
",
    "* accident detection on transporation networks.
",
    "
",
    "Events: Super Bowl, Academy Awards, Grammy, Miss Universe, Golden Globe. Mostly December-February.
",
    "Missed: Charlie Hebdo, Ebola
",
    "
",
    "Network is very large: 5M nodes, 300M edges. Downsampling ideas:
",
    "* Choose a category, e.g. science.
",
    "* Take most active ones.
",
    "* Concatenate in modules / communities / super-nodes.
",
    "
",
    "Raw data
",
    "* [Wikimedia SQL dumps](https://dumps.wikimedia.org/enwiki/), to construct the hyperlink graph.
",
    "    * Network size: 5M nodes, 300M edges.
",
    "* [Pagecounts](https://dumps.wikimedia.org/other/pagecounts-raw/) as activations on the graph.
",
    "    * Data from 2014-09-23 0h to 2015-06-05 22h.
",
    "    * 6142 hours in total."
   ]
  },
  {
   "cell_type": "code",
   "execution_count": null,
   "metadata": {},
   "outputs": [],
   "source": [
    "%matplotlib inline
",
    "
",
    "import os
",
    "
",
    "import numpy as np
",
    "import pandas as pd
",
    "import matplotlib.pyplot as plt
",
    "import seaborn as sns
",
    "import graph_tool.all as gt"
   ]
  },
  {
   "cell_type": "code",
   "execution_count": null,
   "metadata": {},
   "outputs": [],
   "source": [
    "%load_ext dotenv
",
    "%dotenv .env
",
    "
",
    "WIKI_RAW = os.environ.get('WIKI_RAW')  # Downloaded from dumps.wikimedia.org.
",
    "WIKI_CLEAN = os.environ.get('WIKI_CLEAN')  # Processed by Kirell Benzi."
   ]
  },
  {
   "cell_type": "code",
   "execution_count": null,
   "metadata": {},
   "outputs": [],
   "source": [
    "sns.set_context(\"notebook\", font_scale=1.5)
",
    "plt.rcParams['figure.figsize'] = (17, 5)"
   ]
  },
  {
   "cell_type": "markdown",
   "metadata": {},
   "source": [
    "## 1 Hyperlink graph"
   ]
  },
  {
   "cell_type": "code",
   "execution_count": null,
   "metadata": {},
   "outputs": [],
   "source": [
    "g = gt.load_graph(os.path.join(WIKI_CLEAN, 'enwiki-20150403-graph.gt'))"
   ]
  },
  {
   "cell_type": "code",
   "execution_count": null,
   "metadata": {},
   "outputs": [],
   "source": [
    "g.is_directed()
",
    "#g.set_directed(False)"
   ]
  },
  {
   "cell_type": "code",
   "execution_count": null,
   "metadata": {},
   "outputs": [],
   "source": [
    "print('{:.2e} vertices'.format(g.num_vertices()))
",
    "print('{:.2e} edges'.format(g.num_edges()))
",
    "
",
    "g.list_properties()"
   ]
  },
  {
   "cell_type": "code",
   "execution_count": null,
   "metadata": {},
   "outputs": [],
   "source": [
    "idx = 42
",
    "page_title = g.vertex_properties['page_title'][idx]
",
    "page_id = g.vertex_properties['page_id'][idx]
",
    "print('{}: {}'.format(page_id, page_title))"
   ]
  },
  {
   "cell_type": "code",
   "execution_count": null,
   "metadata": {},
   "outputs": [],
   "source": [
    "hist = gt.vertex_hist(g, 'total')
",
    "plt.loglog(hist[1][:-1], hist[0])
",
    "plt.xlabel('#edges')
",
    "plt.ylabel('#nodes');"
   ]
  },
  {
   "cell_type": "code",
   "execution_count": null,
   "metadata": {},
   "outputs": [],
   "source": [
    "# Too large to be drawn in full.
",
    "#gt.sfdp_layout
",
    "#gt.graph_draw(g)"
   ]
  },
  {
   "cell_type": "code",
   "execution_count": null,
   "metadata": {},
   "outputs": [],
   "source": [
    "# Remove uninteresting pages.
",
    "#g.set_vertex_filter()
",
    "#g.remove_vertex"
   ]
  },
  {
   "cell_type": "code",
   "execution_count": null,
   "metadata": {},
   "outputs": [],
   "source": [
    "A = gt.adjacency(g)
",
    "A"
   ]
  }
 ],
 "metadata": {},
 "nbformat": 4,
 "nbformat_minor": 2
}
